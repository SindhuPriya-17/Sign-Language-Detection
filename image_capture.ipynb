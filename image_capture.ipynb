{
 "cells": [
  {
   "cell_type": "code",
   "execution_count": 2,
   "id": "4ed1a122",
   "metadata": {},
   "outputs": [],
   "source": [
    "import cv2\n",
    "import os\n",
    "import time\n",
    "import uuid"
   ]
  },
  {
   "cell_type": "code",
   "execution_count": 3,
   "id": "31aae20c",
   "metadata": {},
   "outputs": [],
   "source": [
    "IMAGES_PATH='Tensorflow/workspace/images/collectedimages'"
   ]
  },
  {
   "cell_type": "code",
   "execution_count": 4,
   "id": "ae1df899",
   "metadata": {},
   "outputs": [],
   "source": [
    "labels=['hello','thanks','yes','no','iloveyou']\n",
    "number_imgs=15"
   ]
  },
  {
   "cell_type": "code",
   "execution_count": null,
   "id": "35b02f96",
   "metadata": {},
   "outputs": [
    {
     "name": "stdout",
     "output_type": "stream",
     "text": [
      "enter esc/space\n",
      "Collecting images for hello\n",
      "photo captured\n",
      "photo captured\n",
      "photo captured\n",
      "photo captured\n",
      "photo captured\n",
      "photo captured\n",
      "photo captured\n",
      "photo captured\n",
      "photo captured\n",
      "photo captured\n",
      "photo captured\n",
      "photo captured\n",
      "photo captured\n",
      "photo captured\n",
      "photo captured\n",
      "Collecting images for thanks\n",
      "photo captured\n",
      "photo captured\n",
      "photo captured\n",
      "photo captured\n",
      "photo captured\n",
      "photo captured\n",
      "photo captured\n",
      "photo captured\n",
      "photo captured\n",
      "photo captured\n",
      "photo captured\n",
      "photo captured\n",
      "photo captured\n",
      "photo captured\n",
      "photo captured\n",
      "Collecting images for yes\n",
      "photo captured\n",
      "photo captured\n",
      "photo captured\n",
      "photo captured\n",
      "photo captured\n",
      "photo captured\n",
      "photo captured\n",
      "photo captured\n",
      "photo captured\n",
      "photo captured\n",
      "photo captured\n",
      "photo captured\n",
      "photo captured\n",
      "photo captured\n",
      "photo captured\n",
      "Collecting images for no\n",
      "photo captured\n",
      "photo captured\n",
      "photo captured\n",
      "photo captured\n",
      "photo captured\n",
      "photo captured\n",
      "photo captured\n",
      "photo captured\n",
      "photo captured\n",
      "photo captured\n",
      "photo captured\n",
      "photo captured\n",
      "photo captured\n",
      "photo captured\n",
      "photo captured\n",
      "Collecting images for iloveyou\n",
      "photo captured\n",
      "photo captured\n",
      "photo captured\n",
      "photo captured\n",
      "photo captured\n",
      "photo captured\n",
      "photo captured\n",
      "photo captured\n",
      "photo captured\n",
      "photo captured\n",
      "photo captured\n",
      "photo captured\n",
      "photo captured\n",
      "photo captured\n",
      "photo captured\n"
     ]
    },
    {
     "name": "stderr",
     "output_type": "stream",
     "text": [
      "A subdirectory or file Tensorflow\\workspace\\images\\collectedimages\\hello already exists.\n"
     ]
    },
    {
     "name": "stdout",
     "output_type": "stream",
     "text": [
      "Collecting images for hello\n"
     ]
    }
   ],
   "source": [
    "cap=cv2.VideoCapture(0)\n",
    "cv2.namedWindow(\"frame\")\n",
    "print(\"enter esc/space\")\n",
    "while True:\n",
    "    ret, frame = cap.read()\n",
    "    cv2.imshow( 'frame', frame)\n",
    "    k = cv2.waitKey(1)   \n",
    "    if k%256 == 27:\n",
    "        print(\"Escape hit, closing...\")\n",
    "        break\n",
    "    if k%256 == 32:\n",
    "         # SPACE pressed\n",
    "        for label in labels:\n",
    "            !mkdir {\"Tensorflow\\workspace\\images\\collectedimages\\\\\"+label}\n",
    "            print('Collecting images for {}'.format (label))\n",
    "            for imgnum in range(number_imgs):\n",
    "                while True:\n",
    "                    ret, frame = cap.read()\n",
    "                    cv2.imshow( 'frame', frame)\n",
    "                    z = cv2.waitKey(1)\n",
    "                    if z%256 == 32:\n",
    "                        imgname=os.path. join (IMAGES_PATH, label, label+'.'+'{}.jpg'.format(str(uuid.uuid1())))\n",
    "                        cv2.imwrite(imgname, frame)\n",
    "                        print(\"photo captured\")\n",
    "                        break\n",
    "cap.release()\n",
    "cv2.destroyAllWindows() "
   ]
  },
  {
   "cell_type": "code",
   "execution_count": null,
   "id": "9abcf94f",
   "metadata": {},
   "outputs": [],
   "source": []
  }
 ],
 "metadata": {
  "kernelspec": {
   "display_name": "Python 3",
   "language": "python",
   "name": "python3"
  },
  "language_info": {
   "codemirror_mode": {
    "name": "ipython",
    "version": 3
   },
   "file_extension": ".py",
   "mimetype": "text/x-python",
   "name": "python",
   "nbconvert_exporter": "python",
   "pygments_lexer": "ipython3",
   "version": "3.9.5"
  }
 },
 "nbformat": 4,
 "nbformat_minor": 5
}
